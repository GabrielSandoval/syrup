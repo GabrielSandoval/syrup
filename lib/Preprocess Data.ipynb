{
 "cells": [
  {
   "cell_type": "code",
   "execution_count": 1,
   "id": "e309eaeb",
   "metadata": {},
   "outputs": [],
   "source": [
    "import pandas as pd"
   ]
  },
  {
   "cell_type": "markdown",
   "id": "9cabe56d",
   "metadata": {},
   "source": [
    "### Load and explore data"
   ]
  },
  {
   "cell_type": "code",
   "execution_count": 2,
   "id": "9a94b081",
   "metadata": {},
   "outputs": [
    {
     "data": {
      "text/html": [
       "<div>\n",
       "<style scoped>\n",
       "    .dataframe tbody tr th:only-of-type {\n",
       "        vertical-align: middle;\n",
       "    }\n",
       "\n",
       "    .dataframe tbody tr th {\n",
       "        vertical-align: top;\n",
       "    }\n",
       "\n",
       "    .dataframe thead th {\n",
       "        text-align: right;\n",
       "    }\n",
       "</style>\n",
       "<table border=\"1\" class=\"dataframe\">\n",
       "  <thead>\n",
       "    <tr style=\"text-align: right;\">\n",
       "      <th></th>\n",
       "      <th>name</th>\n",
       "      <th>date</th>\n",
       "      <th>open_price</th>\n",
       "      <th>close_price</th>\n",
       "      <th>high_price</th>\n",
       "      <th>low_price</th>\n",
       "      <th>volume</th>\n",
       "      <th>market</th>\n",
       "    </tr>\n",
       "  </thead>\n",
       "  <tbody>\n",
       "    <tr>\n",
       "      <th>0</th>\n",
       "      <td>AAME</td>\n",
       "      <td>04-Jan-2010</td>\n",
       "      <td>1.3200</td>\n",
       "      <td>1.3200</td>\n",
       "      <td>1.3200</td>\n",
       "      <td>1.3200</td>\n",
       "      <td>1400</td>\n",
       "      <td>NASDAQ</td>\n",
       "    </tr>\n",
       "    <tr>\n",
       "      <th>1</th>\n",
       "      <td>AAON</td>\n",
       "      <td>04-Jan-2010</td>\n",
       "      <td>5.8726</td>\n",
       "      <td>5.9259</td>\n",
       "      <td>5.8074</td>\n",
       "      <td>5.9230</td>\n",
       "      <td>72700</td>\n",
       "      <td>NASDAQ</td>\n",
       "    </tr>\n",
       "    <tr>\n",
       "      <th>2</th>\n",
       "      <td>AAPL</td>\n",
       "      <td>04-Jan-2010</td>\n",
       "      <td>30.4900</td>\n",
       "      <td>30.6429</td>\n",
       "      <td>30.3400</td>\n",
       "      <td>30.5729</td>\n",
       "      <td>17633100</td>\n",
       "      <td>NASDAQ</td>\n",
       "    </tr>\n",
       "    <tr>\n",
       "      <th>3</th>\n",
       "      <td>AAWW</td>\n",
       "      <td>04-Jan-2010</td>\n",
       "      <td>37.9800</td>\n",
       "      <td>38.6600</td>\n",
       "      <td>37.0700</td>\n",
       "      <td>38.2000</td>\n",
       "      <td>607400</td>\n",
       "      <td>NASDAQ</td>\n",
       "    </tr>\n",
       "    <tr>\n",
       "      <th>4</th>\n",
       "      <td>AAXJ</td>\n",
       "      <td>04-Jan-2010</td>\n",
       "      <td>57.0000</td>\n",
       "      <td>57.3400</td>\n",
       "      <td>56.7700</td>\n",
       "      <td>57.1700</td>\n",
       "      <td>273800</td>\n",
       "      <td>NASDAQ</td>\n",
       "    </tr>\n",
       "  </tbody>\n",
       "</table>\n",
       "</div>"
      ],
      "text/plain": [
       "   name         date  open_price  close_price  high_price  low_price  \\\n",
       "0  AAME  04-Jan-2010      1.3200       1.3200      1.3200     1.3200   \n",
       "1  AAON  04-Jan-2010      5.8726       5.9259      5.8074     5.9230   \n",
       "2  AAPL  04-Jan-2010     30.4900      30.6429     30.3400    30.5729   \n",
       "3  AAWW  04-Jan-2010     37.9800      38.6600     37.0700    38.2000   \n",
       "4  AAXJ  04-Jan-2010     57.0000      57.3400     56.7700    57.1700   \n",
       "\n",
       "     volume  market  \n",
       "0      1400  NASDAQ  \n",
       "1     72700  NASDAQ  \n",
       "2  17633100  NASDAQ  \n",
       "3    607400  NASDAQ  \n",
       "4    273800  NASDAQ  "
      ]
     },
     "execution_count": 2,
     "metadata": {},
     "output_type": "execute_result"
    }
   ],
   "source": [
    "stock_data = pd.read_csv(\"../data/stock_data.csv\")\n",
    "stock_data.head()"
   ]
  },
  {
   "cell_type": "markdown",
   "id": "3fd1bd76",
   "metadata": {},
   "source": [
    "### Export Data"
   ]
  },
  {
   "cell_type": "code",
   "execution_count": 3,
   "id": "7af0ab60",
   "metadata": {},
   "outputs": [],
   "source": [
    "# Get latest stock prices for each market\n",
    "\n",
    "for market_name in stock_data['market'].unique():\n",
    "    market = stock_data[stock_data['market'] == market_name]\n",
    "    market = market.groupby('name').last()\n",
    "    market = market.reset_index()\n",
    "    market.to_json(\"../data/{}_market.json\".format(market_name), orient='records')\n",
    "    \n",
    "    for stock_name in market['name'].unique():\n",
    "        stock = stock_data[(stock_data['name'] == stock_name) & (stock_data['market'] == market_name)]\n",
    "        stock.to_csv(\"../data/{}/{}.csv\".format(market_name, stock_name), index=False)"
   ]
  }
 ],
 "metadata": {
  "kernelspec": {
   "display_name": "Python 3",
   "language": "python",
   "name": "python3"
  },
  "language_info": {
   "codemirror_mode": {
    "name": "ipython",
    "version": 3
   },
   "file_extension": ".py",
   "mimetype": "text/x-python",
   "name": "python",
   "nbconvert_exporter": "python",
   "pygments_lexer": "ipython3",
   "version": "3.9.5"
  }
 },
 "nbformat": 4,
 "nbformat_minor": 5
}
